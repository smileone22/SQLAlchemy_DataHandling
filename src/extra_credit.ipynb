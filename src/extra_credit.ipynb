{
 "cells": [
  {
   "cell_type": "markdown",
   "id": "union-newsletter",
   "metadata": {},
   "source": [
    "# Visualization in matplotlib using the data in your eatery \n",
    "\n",
    "\n",
    "* using Python and either pscopg2 or sqlalchemy connect to the data in the database\n",
    "* reuse your config file to make this connection / session\n",
    "* bring in some database data and use that as the basis for your chart or graph\n",
    "    * for example, use some of the queries in the questions above\n",
    "* a bar chart would work for number of eateries grouped by permit start date year\n",
    "… or a bar chart comparing the eateries per borough"
   ]
  },
  {
   "cell_type": "code",
   "execution_count": 1,
   "id": "above-fancy",
   "metadata": {},
   "outputs": [],
   "source": [
    "import psycopg2\n",
    "from db import * \n",
    "import os \n",
    "import json\n",
    "import matplotlib.pyplot as plt\n",
    "curpath=os.getcwd()\n",
    "\n",
    "with open(curpath+'/config.json') as config_file:\n",
    "    data = json.load(config_file)\n",
    "    id= data['username']\n",
    "    pw = data['password']\n",
    "    db= data['database']\n",
    "    \n",
    "conn = psycopg2.connect(dbname=db, user=id, password=pw)\n",
    "cur = conn.cursor()\n",
    "q='SELECT extract(year from start_date) AS year , count(*) from eatery GROUP BY year ORDER BY year asc;'\n",
    "cur.execute(q)\n",
    "year=[]\n",
    "count=[]\n",
    "for row in cur:\n",
    "    year.append(str(row[0]))\n",
    "    count.append(row[1])\n",
    "\n",
    "\n"
   ]
  },
  {
   "cell_type": "markdown",
   "id": "partial-static",
   "metadata": {},
   "source": [
    "# Count of eateries per year based on permit start date"
   ]
  },
  {
   "cell_type": "code",
   "execution_count": 2,
   "id": "inside-hopkins",
   "metadata": {},
   "outputs": [
    {
     "data": {
      "image/png": "[encoded data removed]",
      "text/plain": [
       "<Figure size 432x288 with 1 Axes>"
      ]
     },
     "metadata": {
      "needs_background": "light"
     },
     "output_type": "display_data"
    }
   ],
   "source": [
    "plt.bar(year, count)\n",
    "plt.show()"
   ]
  },
  {
   "cell_type": "markdown",
   "id": "roman-blend",
   "metadata": {},
   "source": [
    "# Which eateries are a cart, and which eateries aren't a cart?"
   ]
  },
  {
   "cell_type": "code",
   "execution_count": 3,
   "id": "animal-mistress",
   "metadata": {},
   "outputs": [],
   "source": [
    "q=\"SELECT tmp.name,count(tmp.name) FROM (SELECT e.eatery_id,CASE WHEN et.name ILIKE '%cart%' THEN 'Cart' ELSE et.name END, permit_number FROM eatery e INNER JOIN eatery_type et on et.eatery_type_id=e.eatery_type_id) tmp GROUP BY tmp.name ;\"\n",
    "cur.execute(q)\n",
    "typeo= []\n",
    "count= [ ]\n",
    "for row in cur:\n",
    "    typeo.append(str(row[0]))\n",
    "    count.append(row[1])"
   ]
  },
  {
   "cell_type": "code",
   "execution_count": 4,
   "id": "uniform-proxy",
   "metadata": {},
   "outputs": [
    {
     "data": {
      "image/png": "[encoded data removed]",
      "text/plain": [
       "<Figure size 432x288 with 1 Axes>"
      ]
     },
     "metadata": {
      "needs_background": "light"
     },
     "output_type": "display_data"
    }
   ],
   "source": [
    "plt.bar(typeo, count)\n",
    "plt.show()"
   ]
  },
  {
   "cell_type": "markdown",
   "id": "accurate-forth",
   "metadata": {},
   "source": [
    "# How many eateries are there per borough?"
   ]
  },
  {
   "cell_type": "code",
   "execution_count": 5,
   "id": "future-concept",
   "metadata": {},
   "outputs": [],
   "source": [
    "conn.commit()"
   ]
  },
  {
   "cell_type": "code",
   "execution_count": 6,
   "id": "straight-answer",
   "metadata": {},
   "outputs": [],
   "source": [
    "cur = conn.cursor()\n",
    "q=\"SELECT br.case as borough, count(*) from ( SELECT eatery_id, CASE WHEN park_id ilike '%X%' THEN 'Bronx' WHEN park_id ilike '%B%'  THEN  'Brooklyn'WHEN park_id ilike '%M%' THEN 'Manhattan' WHEN park_id ilike '%Q%'  THEN  'Queens' WHEN park_id ilike '%R%'  THEN  'Staten Island' END FROM eatery ) br GROUP BY br.case ;\" \n",
    "cur.execute(q)\n",
    "bor= []\n",
    "count= [ ]\n",
    "for row in cur:\n",
    "    bor.append(str(row[0]))\n",
    "    count.append(row[1])\n",
    "\n",
    "\n"
   ]
  },
  {
   "cell_type": "code",
   "execution_count": 7,
   "id": "nuclear-consideration",
   "metadata": {},
   "outputs": [
    {
     "data": {
      "image/png": "[encoded data removed]",
      "text/plain": [
       "<Figure size 432x288 with 1 Axes>"
      ]
     },
     "metadata": {},
     "output_type": "display_data"
    }
   ],
   "source": [
    "plt.pie(count, labels = bor)\n",
    "plt.show() "
   ]
  }
 ],
 "metadata": {
  "kernelspec": {
   "display_name": "Python 3",
   "language": "python",
   "name": "python3"
  },
  "language_info": {
   "codemirror_mode": {
    "name": "ipython",
    "version": 3
   },
   "file_extension": ".py",
   "mimetype": "text/x-python",
   "name": "python",
   "nbconvert_exporter": "python",
   "pygments_lexer": "ipython3",
   "version": "3.8.3"
  }
 },
 "nbformat": 4,
 "nbformat_minor": 5
}
